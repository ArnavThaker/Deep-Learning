{
 "cells": [
  {
   "cell_type": "markdown",
   "id": "938d9abe",
   "metadata": {},
   "source": [
    "# Programming Assignment 1\n",
    "## Arnav Thaker\n"
   ]
  },
  {
   "cell_type": "markdown",
   "id": "e2629312",
   "metadata": {},
   "source": [
    "---"
   ]
  },
  {
   "cell_type": "markdown",
   "id": "33344c56",
   "metadata": {},
   "source": [
    "### Problem 1"
   ]
  },
  {
   "cell_type": "code",
   "execution_count": 1,
   "id": "4c5cf81d",
   "metadata": {},
   "outputs": [
    {
     "data": {
      "text/plain": [
       "<matplotlib.legend.Legend at 0x7fe3a673b1f0>"
      ]
     },
     "execution_count": 1,
     "metadata": {},
     "output_type": "execute_result"
    },
    {
     "data": {
      "image/png": "[encoded data removed]",
      "text/plain": [
       "<Figure size 432x288 with 1 Axes>"
      ]
     },
     "metadata": {
      "needs_background": "light"
     },
     "output_type": "display_data"
    }
   ],
   "source": [
    "import torch\n",
    "import numpy as np\n",
    "import matplotlib.pyplot as plt\n",
    "\n",
    "def f(x):\n",
    "    return x ** 3 - x\n",
    "x = torch.linspace(-1, 1, 100)\n",
    "\n",
    "plt.plot(x, f(x), '.--r', label = '$f(x) = x^3 -x$')\n",
    "plt.xlim(-1, 1)\n",
    "plt.legend()"
   ]
  },
  {
   "cell_type": "markdown",
   "id": "542eb883",
   "metadata": {},
   "source": [
    "---"
   ]
  },
  {
   "cell_type": "markdown",
   "id": "dfc34de7",
   "metadata": {},
   "source": [
    "### Problem 2"
   ]
  },
  {
   "cell_type": "code",
   "execution_count": 2,
   "id": "9c3dbfe8",
   "metadata": {},
   "outputs": [
    {
     "name": "stdout",
     "output_type": "stream",
     "text": [
      "The roots are:  [-0.5]  and  [1.]\n"
     ]
    },
    {
     "data": {
      "text/plain": [
       "<matplotlib.legend.Legend at 0x7fe3a7851ac0>"
      ]
     },
     "execution_count": 2,
     "metadata": {},
     "output_type": "execute_result"
    },
    {
     "data": {
      "image/png": "[encoded data removed]",
      "text/plain": [
       "<Figure size 432x288 with 1 Axes>"
      ]
     },
     "metadata": {
      "needs_background": "light"
     },
     "output_type": "display_data"
    }
   ],
   "source": [
    "from scipy.optimize import fsolve\n",
    "def f(x):\n",
    "    return 2 * x ** 2 - x - 1\n",
    "\n",
    "root1 = fsolve(f, -1)\n",
    "root2 = fsolve(f, 1)\n",
    "print(\"The roots are: \", root1, \" and \", root2)\n",
    "\n",
    "x = torch.linspace(-2, 2.5, 10)\n",
    "\n",
    "plt.plot(x, f(x), '-r', label = '$f(x) = 2x^2 - x - 1')\n",
    "plt.plot(root1, f(root1), '*--b', label = 'Root 1, x = -0.5')\n",
    "plt.plot(root2, f(root2), '*--b', label = 'Root 2, x = 1')\n",
    "plt.xlim(-1, 2)\n",
    "plt.legend()"
   ]
  },
  {
   "cell_type": "markdown",
   "id": "26cae24d",
   "metadata": {},
   "source": [
    "---"
   ]
  },
  {
   "cell_type": "markdown",
   "id": "d9ea2398",
   "metadata": {},
   "source": [
    "### Problem 4"
   ]
  },
  {
   "cell_type": "code",
   "execution_count": 4,
   "id": "a7a1f60d",
   "metadata": {
    "scrolled": true
   },
   "outputs": [
    {
     "name": "stdout",
     "output_type": "stream",
     "text": [
      "A is  tensor([[1., 2., 3.],\n",
      "        [4., 5., 6.],\n",
      "        [7., 8., 9.]])\n",
      "b is  tensor([[1.],\n",
      "        [2.],\n",
      "        [3.]])\n",
      "Solving A^2 x = b, we get\n",
      "x =  tensor([[-0.0010],\n",
      "        [ 0.2241],\n",
      "        [-0.1676]])\n"
     ]
    }
   ],
   "source": [
    "A = torch.tensor([[1, 2, 3], [4, 5, 6], [7, 8, 9]], dtype = torch.float32)\n",
    "b = torch.tensor([[1], [2], [3]], dtype = torch.float32)\n",
    "x, LU = torch.solve(b, torch.mm(A, A))\n",
    "print(\"A is \", A)\n",
    "print(\"b is \", b)\n",
    "print(\"Solving A^2 x = b, we get\" )\n",
    "print(\"x = \", x)"
   ]
  },
  {
   "cell_type": "markdown",
   "id": "a37861b0",
   "metadata": {},
   "source": [
    "---"
   ]
  },
  {
   "cell_type": "markdown",
   "id": "9688312a",
   "metadata": {},
   "source": [
    "### Problem 5"
   ]
  },
  {
   "cell_type": "code",
   "execution_count": 5,
   "id": "1faf7323",
   "metadata": {},
   "outputs": [
    {
     "name": "stdout",
     "output_type": "stream",
     "text": [
      "Derivative of x^2 + y^2 + (xy)^3 wrt y evaluated\n",
      " at x = 1, y = 2 is \n",
      "(tensor([16.]),)\n"
     ]
    }
   ],
   "source": [
    "x = torch.tensor([1.0])\n",
    "y = torch.tensor([2.0], requires_grad = True)\n",
    "z = x ** 2 + y ** 2 + (x * y) ** 3\n",
    "grad = torch.autograd.grad(outputs = z, inputs = y)\n",
    "print(\"Derivative of x^2 + y^2 + (xy)^3 wrt y evaluated\") \n",
    "print(\" at x = 1, y = 2 is \")\n",
    "print(grad)"
   ]
  },
  {
   "cell_type": "markdown",
   "id": "21b55870",
   "metadata": {},
   "source": [
    "---"
   ]
  },
  {
   "cell_type": "markdown",
   "id": "53da317b",
   "metadata": {},
   "source": [
    "### Problem 7"
   ]
  },
  {
   "cell_type": "code",
   "execution_count": 6,
   "id": "a7ccb86a",
   "metadata": {},
   "outputs": [
    {
     "name": "stdout",
     "output_type": "stream",
     "text": [
      "Sequence is  [2 2 0 2 6]\n",
      "Max is  6\n",
      "Min is  0 \n",
      "\n",
      "Sequence is  [-12 -11 -11  -9 -10  -4  -4 -12 -10]\n",
      "Max is  -4\n",
      "Min is  -12 \n",
      "\n",
      "Sequence is  [ 17   0  -5 -11 -20  -8 -14  -1 -30 -28   5  20  14 -11  -3   6 -24  10\n",
      "  12]\n",
      "Max is  20\n",
      "Min is  -30 \n",
      "\n",
      "Sequence is  [1 0 1]\n",
      "Max is  1\n",
      "Min is  0 \n",
      "\n"
     ]
    }
   ],
   "source": [
    "def f_minMax(x):\n",
    "    maxVal = x[0]\n",
    "    minVal = x[0]\n",
    "    for i in range(len(x)):\n",
    "        if x[i] < minVal:\n",
    "            minVal = x[i]\n",
    "        if x[i] > maxVal:\n",
    "            maxVal = x[i]\n",
    "    print(\"Sequence is \", x)\n",
    "    print(\"Max is \", maxVal)\n",
    "    print(\"Min is \", minVal, \"\\n\")\n",
    "f_minMax(np.random.randint(0, 10, 5))\n",
    "f_minMax(np.random.randint(-12, -3, 9))\n",
    "f_minMax(np.random.randint(-32, 21, 19))\n",
    "f_minMax(np.random.randint(0, 2, 3))\n"
   ]
  },
  {
   "cell_type": "markdown",
   "id": "a0f7a26e",
   "metadata": {},
   "source": [
    "--- "
   ]
  },
  {
   "cell_type": "markdown",
   "id": "9dbbb9d3",
   "metadata": {},
   "source": [
    "### Problem 8"
   ]
  },
  {
   "cell_type": "code",
   "execution_count": 7,
   "id": "b341f996",
   "metadata": {},
   "outputs": [
    {
     "name": "stdout",
     "output_type": "stream",
     "text": [
      "Sequence is  [4 1 1 9 6]\n",
      "Sorted sequence is  [1, 1, 4, 6, 9] \n",
      "\n",
      "Sequence is  [ -8  -7  -9  -7  -7  -4  -7  -4 -12]\n",
      "Sorted sequence is  [-12, -9, -8, -7, -7, -7, -7, -4, -4] \n",
      "\n",
      "Sequence is  [ 14   3 -25  16 -13 -29  14   3 -30   4 -17 -31 -13   9   0  19  -8 -17\n",
      "   9]\n",
      "Sorted sequence is  [-31, -30, -29, -25, -17, -17, -13, -13, -8, 0, 3, 3, 4, 9, 9, 14, 14, 16, 19] \n",
      "\n",
      "Sequence is  [1 1 1]\n",
      "Sorted sequence is  [1, 1, 1] \n",
      "\n"
     ]
    }
   ],
   "source": [
    "def f_sort(x):\n",
    "    print(\"Sequence is \", x)\n",
    "    for i in range(len(x)):\n",
    "        current = i\n",
    "        for j in range(i+1, len(x)):\n",
    "            if x[j] < x[current]:\n",
    "                current = j\n",
    "        temp = x[i]\n",
    "        x[i] = x[current]\n",
    "        x[current] = temp\n",
    "        \n",
    "    x = sorted(x)\n",
    "    \n",
    "    print(\"Sorted sequence is \", x, \"\\n\")\n",
    "    \n",
    "f_sort(np.random.randint(0, 10, 5))\n",
    "f_sort(np.random.randint(-12, -3, 9))\n",
    "f_sort(np.random.randint(-32, 21, 19))\n",
    "f_sort(np.random.randint(0, 2, 3))"
   ]
  },
  {
   "cell_type": "markdown",
   "id": "f51cf293",
   "metadata": {},
   "source": [
    "---"
   ]
  },
  {
   "cell_type": "markdown",
   "id": "9abd962a",
   "metadata": {},
   "source": [
    "### Problem 9"
   ]
  },
  {
   "cell_type": "code",
   "execution_count": 7,
   "id": "c51a7354",
   "metadata": {},
   "outputs": [
    {
     "name": "stdout",
     "output_type": "stream",
     "text": [
      "x_t is now tensor([0.4000], grad_fn=<SubBackward0>)\n",
      "y_t is now tensor([1.2000], grad_fn=<SubBackward0>)\n",
      "\n",
      "x_t is now tensor([0.3200], grad_fn=<SubBackward0>)\n",
      "y_t is now tensor([1.6000], grad_fn=<SubBackward0>)\n",
      "\n",
      "x_t is now tensor([0.2080], grad_fn=<SubBackward0>)\n",
      "y_t is now tensor([1.7760], grad_fn=<SubBackward0>)\n",
      "\n",
      "x_t is now tensor([0.1280], grad_fn=<SubBackward0>)\n",
      "y_t is now tensor([1.8688], grad_fn=<SubBackward0>)\n",
      "\n",
      "x_t is now tensor([0.0774], grad_fn=<SubBackward0>)\n",
      "y_t is now tensor([1.9219], grad_fn=<SubBackward0>)\n",
      "\n",
      "x_t is now tensor([0.0466], grad_fn=<SubBackward0>)\n",
      "y_t is now tensor([1.9533], grad_fn=<SubBackward0>)\n",
      "\n",
      "x_t is now tensor([0.0280], grad_fn=<SubBackward0>)\n",
      "y_t is now tensor([1.9720], grad_fn=<SubBackward0>)\n",
      "\n",
      "x_t is now tensor([0.0168], grad_fn=<SubBackward0>)\n",
      "y_t is now tensor([1.9832], grad_fn=<SubBackward0>)\n",
      "\n",
      "x_t is now tensor([0.0101], grad_fn=<SubBackward0>)\n",
      "y_t is now tensor([1.9899], grad_fn=<SubBackward0>)\n",
      "\n",
      "x_t is now tensor([0.0060], grad_fn=<SubBackward0>)\n",
      "y_t is now tensor([1.9940], grad_fn=<SubBackward0>)\n",
      "\n",
      "It's clear to see from the above approximation \n",
      "that after running 10 iterations of gradient \n",
      "descent with initialization (0, 0) and eta = 0.1, \n",
      "x approaches 0 and y approaches 2. Thus, we conclude \n",
      "and say that the global minimum of this function is \n",
      "(0, 2)\n"
     ]
    }
   ],
   "source": [
    "x = torch.tensor([0.0], requires_grad = True)\n",
    "y = torch.tensor([0.0], requires_grad = True)\n",
    "eta = 0.1\n",
    "\n",
    "\n",
    "# simple gradient descent with 10 iterations\n",
    "for i in range(10):\n",
    "    # set differentiable function and compute partials\n",
    "    z = (x-2)**2 + y**2 + 2*(y-4)**2 + 2*x**2 + 2*x*y + 4*y - 1\n",
    "    x_partial = torch.autograd.grad(outputs = z, inputs = x, retain_graph = True, allow_unused = True)\n",
    "    y_partial = torch.autograd.grad(outputs = z, inputs = y, retain_graph = True, allow_unused = True)\n",
    "    \n",
    "    # compute gradient descent\n",
    "    x = x - eta * x_partial[0]\n",
    "    y = y - eta * y_partial[0]\n",
    "    \n",
    "    print(\"x_t is now\", x)\n",
    "    print(\"y_t is now\", y)\n",
    "    print()\n",
    "print(\"It's clear to see from the above approximation \\n\" \n",
    "      \"that after running 10 iterations of gradient \\n\"\n",
    "      \"descent with initialization (0, 0) and eta = 0.1, \\n\"\n",
    "      \"x approaches 0 and y approaches 2. Thus, we conclude \\n\"\n",
    "      \"and say that the global minimum of this function is \\n\"\n",
    "      \"(0, 2)\")    "
   ]
  },
  {
   "cell_type": "markdown",
   "id": "c8480217",
   "metadata": {},
   "source": [
    "---"
   ]
  },
  {
   "cell_type": "code",
   "execution_count": null,
   "id": "9bf2250e",
   "metadata": {},
   "outputs": [],
   "source": []
  }
 ],
 "metadata": {
  "kernelspec": {
   "display_name": "Python 3 (ipykernel)",
   "language": "python",
   "name": "python3"
  },
  "language_info": {
   "codemirror_mode": {
    "name": "ipython",
    "version": 3
   },
   "file_extension": ".py",
   "mimetype": "text/x-python",
   "name": "python",
   "nbconvert_exporter": "python",
   "pygments_lexer": "ipython3",
   "version": "3.9.7"
  }
 },
 "nbformat": 4,
 "nbformat_minor": 5
}
